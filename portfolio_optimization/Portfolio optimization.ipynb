{
 "cells": [
  {
   "cell_type": "code",
   "execution_count": 1,
   "metadata": {},
   "outputs": [
    {
     "name": "stdout",
     "output_type": "stream",
     "text": [
      "[['Delta', 'DAL', 2.0, 24.27, 58.0, 'Travel', 'T', 0.0, 0.0, 0.0, 0.0, 50.0, 2900.0, 1213.5, 40.0, 10.0, 242.7], ['American airlines', 'AAL', 2.0, 11.57, 28.0, 'Travel', 'T', 0.0, 0.0, 0.0, 0.0, 50.0, 1400.0, 578.5, nan, 50.0, 578.5], ['United airlines', 'UAL', 2.0, 29.08, 78.0, 'Travel', 'T', 0.0, 0.0, 60.0, 4680.0, 50.0, 3900.0, 1454.0, nan, 50.0, 1454.0], ['Macys', 'M', 3.0, 5.92, 25.0, 'Retail clothing', 'R', 1000.0, 25000.0, 200.0, 5000.0, 125.0, 3125.0, 740.0, 180.0, -55.0, -325.6], ['Gap', 'GPS', 3.0, 8.35, 24.0, 'Retail clothing', 'R', 0.0, 0.0, 200.0, 4800.0, 50.0, 1200.0, 417.5, nan, 50.0, 417.5], [\"Children's place\", 'PLCE', 3.0, 27.19, 66.0, 'Retail clothing', 'R', 0.0, 0.0, 0.0, 0.0, 125.0, 8250.0, 3398.75, nan, 125.0, 3398.75], ['Capri', 'CPRI', 4.0, 12.93, 38.0, 'Fashion', 'F', 0.0, 0.0, 200.0, 7600.0, 250.0, 9500.0, 3232.5, nan, 250.0, 3232.5], ['Dave', 'PLAY', 8.0, 11.9, 39.0, 'Restaurant & entertainment', 'RE', 913.0, 35607.0, 200.0, 7800.0, 40.0, 1560.0, 476.0, 20.0, 20.0, 238.0], ['Din', 'DIN', 3.0, 33.0, 90.0, 'Restaurant', 'R', 0.0, 0.0, 200.0, 18000.0, 150.0, 13500.0, 4950.0, 80.0, 70.0, 2310.0], ['Eat', 'EAT', 3.0, 15.89, 45.0, 'Restaurant', 'R', 0.0, 0.0, 200.0, 9000.0, 250.0, 11250.0, 3972.5, nan, 250.0, 3972.5], ['Eventbrite', 'EB', 5.0, 8.7, 20.0, 'Tech', 'T', 0.0, 0.0, 0.0, 0.0, 0.0, 0.0, 0.0, nan, 0.0, 0.0], ['AMC', 'amc', 9.0, 3.2, 12.0, 'Entertainment', 'E', 1000.0, 12000.0, 200.0, 2400.0, 0.0, 0.0, 0.0, nan, 0.0, 0.0]]\n"
     ]
    }
   ],
   "source": [
    "from pulp import *\n",
    "import pandas as pd\n",
    "\n",
    "stock_data = pd.read_excel(\"C:/Users/madhu/Desktop/investment_analysis/stocks.xlsx\")\n",
    "\n",
    "stock_data =  stock_data[0:12]\n",
    "\n",
    "stock_data = stock_data.values.tolist()\n",
    "\n",
    "print(stock_data)"
   ]
  },
  {
   "cell_type": "code",
   "execution_count": 2,
   "metadata": {},
   "outputs": [
    {
     "name": "stdout",
     "output_type": "stream",
     "text": [
      "['DAL', 'AAL', 'UAL', 'M', 'GPS', 'PLCE', 'CPRI', 'PLAY', 'DIN', 'EAT', 'EB', 'amc']\n"
     ]
    }
   ],
   "source": [
    "stocks = [x[1] for x in stock_data]\n",
    "\n",
    "print(stocks)"
   ]
  },
  {
   "cell_type": "code",
   "execution_count": 3,
   "metadata": {},
   "outputs": [
    {
     "name": "stdout",
     "output_type": "stream",
     "text": [
      "{'DAL': 24.27, 'AAL': 11.57, 'UAL': 29.08, 'M': 5.92, 'GPS': 8.35, 'PLCE': 27.19, 'CPRI': 12.93, 'PLAY': 11.9, 'DIN': 33.0, 'EAT': 15.89, 'EB': 8.7, 'amc': 3.2}\n",
      "{'DAL': 58.0, 'AAL': 28.0, 'UAL': 78.0, 'M': 25.0, 'GPS': 24.0, 'PLCE': 66.0, 'CPRI': 38.0, 'PLAY': 39.0, 'DIN': 90.0, 'EAT': 45.0, 'EB': 20.0, 'amc': 12.0}\n",
      "{'DAL': 2.0, 'AAL': 2.0, 'UAL': 2.0, 'M': 3.0, 'GPS': 3.0, 'PLCE': 3.0, 'CPRI': 4.0, 'PLAY': 8.0, 'DIN': 3.0, 'EAT': 3.0, 'EB': 5.0, 'amc': 9.0}\n",
      "{'DAL': 'T', 'AAL': 'T', 'UAL': 'T', 'M': 'R', 'GPS': 'R', 'PLCE': 'R', 'CPRI': 'F', 'PLAY': 'RE', 'DIN': 'R', 'EAT': 'R', 'EB': 'T', 'amc': 'E'}\n"
     ]
    }
   ],
   "source": [
    "cost_to_invest = dict([(x[1], float(x[3])) for x in stock_data])\n",
    "projected_earnings = dict([(x[1], float(x[4])) for x in stock_data])\n",
    "risk = dict([(x[1], float(x[2])) for x in stock_data])\n",
    "sector = dict([(x[1], x[6]) for x in stock_data])\n",
    "\n",
    "print(cost_to_invest)\n",
    "print(projected_earnings)\n",
    "print(risk)\n",
    "print(sector)"
   ]
  },
  {
   "cell_type": "code",
   "execution_count": 4,
   "metadata": {},
   "outputs": [],
   "source": [
    "problem = LpProblem(\"Portfoli_optimization\", LpMaximize)"
   ]
  },
  {
   "cell_type": "code",
   "execution_count": 5,
   "metadata": {},
   "outputs": [],
   "source": [
    "weight = LpVariable.dicts(\"weight\", stocks, 0)\n",
    "problem += lpSum(projected_earnings[i] * weight[i] for i in stocks)\n",
    "problem += lpSum(cost_to_invest[i] * weight[i] for i in stocks) >= 0 \n",
    "problem += lpSum(cost_to_invest[i] * weight[i] for i in stocks) <= 20000"
   ]
  },
  {
   "cell_type": "code",
   "execution_count": 6,
   "metadata": {},
   "outputs": [],
   "source": [
    "binary_variable = LpVariable.dicts(\"InOrOut\", stocks, 0 , 1 , LpBinary)"
   ]
  },
  {
   "cell_type": "code",
   "execution_count": 7,
   "metadata": {},
   "outputs": [],
   "source": [
    "for j in stocks:\n",
    "    problem += weight[j] >= binary_variable[j]*0.1\n",
    "    problem += weight[j] <= binary_variable[j]*125\n",
    "\n",
    "problem += lpSum(binary_variable[i] for i in stocks) >= 10"
   ]
  },
  {
   "cell_type": "code",
   "execution_count": 8,
   "metadata": {},
   "outputs": [
    {
     "data": {
      "text/plain": [
       "1"
      ]
     },
     "execution_count": 8,
     "metadata": {},
     "output_type": "execute_result"
    }
   ],
   "source": [
    "problem.writeLP(\"investments.lp\")\n",
    "problem.solve()"
   ]
  },
  {
   "cell_type": "code",
   "execution_count": 9,
   "metadata": {},
   "outputs": [
    {
     "name": "stdout",
     "output_type": "stream",
     "text": [
      "Status: Optimal\n"
     ]
    }
   ],
   "source": [
    "print(\"Status:\", LpStatus[problem.status])"
   ]
  },
  {
   "cell_type": "code",
   "execution_count": 10,
   "metadata": {},
   "outputs": [
    {
     "name": "stdout",
     "output_type": "stream",
     "text": [
      "InOrOut_AAL---1.0\n",
      "InOrOut_CPRI---1.0\n",
      "InOrOut_DAL---1.0\n",
      "InOrOut_DIN---1.0\n",
      "InOrOut_EAT---1.0\n",
      "InOrOut_EB---0.0\n",
      "InOrOut_GPS---1.0\n",
      "InOrOut_M---1.0\n",
      "InOrOut_PLAY---1.0\n",
      "InOrOut_PLCE---1.0\n",
      "InOrOut_UAL---1.0\n",
      "InOrOut_amc---1.0\n",
      "weight_AAL---125.0\n",
      "weight_CPRI---125.0\n",
      "weight_DAL---4.9958797\n",
      "weight_DIN---125.0\n",
      "weight_EAT---125.0\n",
      "weight_EB---0.0\n",
      "weight_GPS---125.0\n",
      "weight_M---125.0\n",
      "weight_PLAY---125.0\n",
      "weight_PLCE---125.0\n",
      "weight_UAL---125.0\n",
      "weight_amc---125.0\n"
     ]
    }
   ],
   "source": [
    "variable_dict = {}\n",
    "for v in problem.variables():    \n",
    "    print(v.name +\"---\"+str(v.varValue))\n",
    "    variable_dict[v.name] = v.varValue\n",
    " "
   ]
  },
  {
   "cell_type": "code",
   "execution_count": null,
   "metadata": {},
   "outputs": [],
   "source": []
  }
 ],
 "metadata": {
  "kernelspec": {
   "display_name": "Python 3",
   "language": "python",
   "name": "python3"
  },
  "language_info": {
   "codemirror_mode": {
    "name": "ipython",
    "version": 3
   },
   "file_extension": ".py",
   "mimetype": "text/x-python",
   "name": "python",
   "nbconvert_exporter": "python",
   "pygments_lexer": "ipython3",
   "version": "3.8.8"
  }
 },
 "nbformat": 4,
 "nbformat_minor": 4
}
