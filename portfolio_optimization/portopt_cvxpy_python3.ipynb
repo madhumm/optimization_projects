{
 "cells": [
  {
   "cell_type": "code",
   "execution_count": 2,
   "metadata": {},
   "outputs": [],
   "source": [
    "import pandas as pd\n",
    "import numpy as np\n",
    "from cvxpy import *"
   ]
  },
  {
   "cell_type": "code",
   "execution_count": 3,
   "metadata": {},
   "outputs": [
    {
     "data": {
      "text/html": [
       "<div>\n",
       "<style scoped>\n",
       "    .dataframe tbody tr th:only-of-type {\n",
       "        vertical-align: middle;\n",
       "    }\n",
       "\n",
       "    .dataframe tbody tr th {\n",
       "        vertical-align: top;\n",
       "    }\n",
       "\n",
       "    .dataframe thead th {\n",
       "        text-align: right;\n",
       "    }\n",
       "</style>\n",
       "<table border=\"1\" class=\"dataframe\">\n",
       "  <thead>\n",
       "    <tr style=\"text-align: right;\">\n",
       "      <th></th>\n",
       "      <th>MSFT</th>\n",
       "      <th>V</th>\n",
       "      <th>WMT</th>\n",
       "    </tr>\n",
       "  </thead>\n",
       "  <tbody>\n",
       "    <tr>\n",
       "      <th>1</th>\n",
       "      <td>44.259998</td>\n",
       "      <td>69.660004</td>\n",
       "      <td>64.839996</td>\n",
       "    </tr>\n",
       "    <tr>\n",
       "      <th>2</th>\n",
       "      <td>52.639999</td>\n",
       "      <td>77.580002</td>\n",
       "      <td>57.240002</td>\n",
       "    </tr>\n",
       "    <tr>\n",
       "      <th>3</th>\n",
       "      <td>54.349998</td>\n",
       "      <td>79.010002</td>\n",
       "      <td>58.840000</td>\n",
       "    </tr>\n",
       "    <tr>\n",
       "      <th>4</th>\n",
       "      <td>55.480000</td>\n",
       "      <td>77.550003</td>\n",
       "      <td>61.299999</td>\n",
       "    </tr>\n",
       "    <tr>\n",
       "      <th>5</th>\n",
       "      <td>55.090000</td>\n",
       "      <td>74.489998</td>\n",
       "      <td>66.360001</td>\n",
       "    </tr>\n",
       "  </tbody>\n",
       "</table>\n",
       "</div>"
      ],
      "text/plain": [
       "        MSFT          V        WMT\n",
       "1  44.259998  69.660004  64.839996\n",
       "2  52.639999  77.580002  57.240002\n",
       "3  54.349998  79.010002  58.840000\n",
       "4  55.480000  77.550003  61.299999\n",
       "5  55.090000  74.489998  66.360001"
      ]
     },
     "execution_count": 3,
     "metadata": {},
     "output_type": "execute_result"
    }
   ],
   "source": [
    "# read monthly_prices.csv\n",
    "mp = pd.read_csv(\"monthly_prices.csv\",index_col=0)\n",
    "mr = pd.DataFrame()\n",
    "mp.head()"
   ]
  },
  {
   "cell_type": "code",
   "execution_count": 4,
   "metadata": {},
   "outputs": [],
   "source": [
    "# compute monthly returns\n",
    "for s in mp.columns:\n",
    "    date = mp.index[0]\n",
    "    pr0 = mp[s][date] \n",
    "    for t in range(1,len(mp.index)):\n",
    "        date = mp.index[t]\n",
    "        pr1 = mp[s][date]\n",
    "        ret = (pr1-pr0)/pr0\n",
    "        #mr.set_value(date,s,ret)\n",
    "        mr.at[date,s]=ret\n",
    "        pr0 = pr1\n",
    "        \n",
    "# get symbol names\n",
    "symbols = mr.columns"
   ]
  },
  {
   "cell_type": "code",
   "execution_count": 5,
   "metadata": {},
   "outputs": [],
   "source": [
    "# convert monthly return data frame to a numpy matrix\n",
    "#return_data = mr.as_matrix().T\n",
    "return_data = mr.values.T"
   ]
  },
  {
   "cell_type": "code",
   "execution_count": 6,
   "metadata": {},
   "outputs": [
    {
     "name": "stdout",
     "output_type": "stream",
     "text": [
      "----------------------\n",
      "MSFT: Exp ret = 0.024611, Risk = 0.058040\n",
      "V: Exp ret = 0.018237, Risk = 0.042807\n",
      "WMT: Exp ret = 0.009066, Risk = 0.044461\n"
     ]
    }
   ],
   "source": [
    "# compute mean return\n",
    "r = np.asarray(np.mean(return_data, axis=1))\n",
    "\n",
    "# covariance\n",
    "C = np.asmatrix(np.cov(return_data))\n",
    "\n",
    "# print out expected return and std deviation\n",
    "print(\"----------------------\")\n",
    "for j in range(len(symbols)):\n",
    "    print('%s: Exp ret = %f, Risk = %f' %(symbols[j],r[j], C[j,j]**0.5))"
   ]
  },
  {
   "cell_type": "code",
   "execution_count": 18,
   "metadata": {},
   "outputs": [],
   "source": [
    "# set up optimization model\n",
    "n = len(symbols)\n",
    "x = Variable(n)\n",
    "req_return = 0.02\n",
    "ret = r.T@x\n",
    "risk = quad_form(x, C)\n",
    "prob = Problem(Minimize(risk), \n",
    "               [sum(x) == 1, ret >= req_return, x >= 0])\n"
   ]
  },
  {
   "cell_type": "code",
   "execution_count": 19,
   "metadata": {},
   "outputs": [
    {
     "name": "stdout",
     "output_type": "stream",
     "text": [
      "----------------------\n",
      "Optimal portfolio\n",
      "----------------------\n",
      "x[MSFT] = 0.582818\n",
      "x[V] = 0.204324\n",
      "x[WMT] = 0.212858\n",
      "----------------------\n",
      "Exp ret = 0.020000\n",
      "risk    = 0.038256\n",
      "----------------------\n"
     ]
    }
   ],
   "source": [
    "# solve problem and write solution\n",
    "try:\n",
    "    prob.solve()\n",
    "    print(\"----------------------\")\n",
    "    print(\"Optimal portfolio\")\n",
    "    print(\"----------------------\")\n",
    "    for s in range(len(symbols)):\n",
    "        #print('x[%s] = %f'%(symbols[s],x.value[s,0]))\n",
    "        print('x[%s] = %f'%(symbols[s],x.value[s]))\n",
    "    print(\"----------------------\")\n",
    "    print('Exp ret = %f' %(ret.value))\n",
    "    print('risk    = %f' %((risk.value)**0.5))\n",
    "    print(\"----------------------\")\n",
    "except:\n",
    "    print('Error')"
   ]
  },
  {
   "cell_type": "code",
   "execution_count": 20,
   "metadata": {},
   "outputs": [
    {
     "data": {
      "text/plain": [
       "Index(['MSFT', 'V', 'WMT'], dtype='object')"
      ]
     },
     "execution_count": 20,
     "metadata": {},
     "output_type": "execute_result"
    }
   ],
   "source": [
    "symbols"
   ]
  },
  {
   "cell_type": "code",
   "execution_count": 21,
   "metadata": {},
   "outputs": [
    {
     "data": {
      "text/plain": [
       "Expression(AFFINE, UNKNOWN, ())"
      ]
     },
     "execution_count": 21,
     "metadata": {},
     "output_type": "execute_result"
    }
   ],
   "source": [
    "x[0]"
   ]
  },
  {
   "cell_type": "code",
   "execution_count": 22,
   "metadata": {},
   "outputs": [
    {
     "data": {
      "text/plain": [
       "0.5828175485022873"
      ]
     },
     "execution_count": 22,
     "metadata": {},
     "output_type": "execute_result"
    }
   ],
   "source": [
    "x.value[0]"
   ]
  },
  {
   "cell_type": "code",
   "execution_count": null,
   "metadata": {},
   "outputs": [],
   "source": []
  },
  {
   "cell_type": "code",
   "execution_count": null,
   "metadata": {},
   "outputs": [],
   "source": []
  },
  {
   "cell_type": "code",
   "execution_count": null,
   "metadata": {},
   "outputs": [],
   "source": []
  }
 ],
 "metadata": {
  "kernelspec": {
   "display_name": "Python 3",
   "language": "python",
   "name": "python3"
  },
  "language_info": {
   "codemirror_mode": {
    "name": "ipython",
    "version": 3
   },
   "file_extension": ".py",
   "mimetype": "text/x-python",
   "name": "python",
   "nbconvert_exporter": "python",
   "pygments_lexer": "ipython3",
   "version": "3.8.8"
  }
 },
 "nbformat": 4,
 "nbformat_minor": 4
}
