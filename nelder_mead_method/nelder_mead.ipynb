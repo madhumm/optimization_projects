{
 "cells": [
  {
   "cell_type": "code",
   "execution_count": 1,
   "metadata": {},
   "outputs": [],
   "source": [
    "from scipy import optimize\n",
    "import math"
   ]
  },
  {
   "cell_type": "code",
   "execution_count": 2,
   "metadata": {},
   "outputs": [],
   "source": [
    "def f(x):\n",
    "    return (1- x[0] + x[0]*x[1])**2 + (2 - x[0] + x[0]**2*x[1])**2 + (3 - x[0] + x[0]**3 *x[1] )**2"
   ]
  },
  {
   "cell_type": "code",
   "execution_count": 3,
   "metadata": {},
   "outputs": [
    {
     "name": "stdout",
     "output_type": "stream",
     "text": [
      "362\n"
     ]
    }
   ],
   "source": [
    "print(f([2, 2]))"
   ]
  },
  {
   "cell_type": "code",
   "execution_count": 4,
   "metadata": {},
   "outputs": [],
   "source": [
    "result = optimize.minimize(f, x0 = [0,0], method='Nelder-Mead')"
   ]
  },
  {
   "cell_type": "code",
   "execution_count": 5,
   "metadata": {},
   "outputs": [
    {
     "name": "stdout",
     "output_type": "stream",
     "text": [
      " final_simplex: (array([[ 1.51904735, -0.27673147],\n",
      "       [ 1.51911816, -0.27667892],\n",
      "       [ 1.51906527, -0.27677334]]), array([1.16841231, 1.16841232, 1.16841234]))\n",
      "           fun: 1.168412313483284\n",
      "       message: 'Optimization terminated successfully.'\n",
      "          nfev: 156\n",
      "           nit: 82\n",
      "        status: 0\n",
      "       success: True\n",
      "             x: array([ 1.51904735, -0.27673147])\n"
     ]
    }
   ],
   "source": [
    "print(result)"
   ]
  },
  {
   "cell_type": "code",
   "execution_count": 27,
   "metadata": {},
   "outputs": [],
   "source": [
    "def g(x):\n",
    "    g_partial_1 = math.sin(x[0])*math.sin(x[1])\n",
    "    \n",
    "    g_partial_2 = math.exp(abs(100 - (math.sqrt(x[0]**2 + x[1]**2)/math.pi)))\n",
    "    \n",
    "    return -0.0001 * (abs(g_partial_1 * g_partial_2)+ 1)**0.1"
   ]
  },
  {
   "cell_type": "code",
   "execution_count": 28,
   "metadata": {},
   "outputs": [],
   "source": [
    "result2 = optimize.minimize(g, x0 = [-1,1], method='Nelder-Mead')"
   ]
  },
  {
   "cell_type": "code",
   "execution_count": 29,
   "metadata": {},
   "outputs": [
    {
     "name": "stdout",
     "output_type": "stream",
     "text": [
      " final_simplex: (array([[-1.34945257,  1.34939591],\n",
      "       [-1.34941434,  1.34946869],\n",
      "       [-1.34935394,  1.34933423]]), array([-2.06261187, -2.06261187, -2.06261187]))\n",
      "           fun: -2.062611870553887\n",
      "       message: 'Optimization terminated successfully.'\n",
      "          nfev: 57\n",
      "           nit: 31\n",
      "        status: 0\n",
      "       success: True\n",
      "             x: array([-1.34945257,  1.34939591])\n"
     ]
    }
   ],
   "source": [
    "print(result2)"
   ]
  },
  {
   "cell_type": "code",
   "execution_count": null,
   "metadata": {},
   "outputs": [],
   "source": []
  }
 ],
 "metadata": {
  "kernelspec": {
   "display_name": "Python 3 (ipykernel)",
   "language": "python",
   "name": "python3"
  },
  "language_info": {
   "codemirror_mode": {
    "name": "ipython",
    "version": 3
   },
   "file_extension": ".py",
   "mimetype": "text/x-python",
   "name": "python",
   "nbconvert_exporter": "python",
   "pygments_lexer": "ipython3",
   "version": "3.7.12"
  }
 },
 "nbformat": 4,
 "nbformat_minor": 4
}
